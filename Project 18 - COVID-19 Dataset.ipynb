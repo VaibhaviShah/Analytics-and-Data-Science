{
 "cells": [
  {
   "cell_type": "markdown",
   "metadata": {},
   "source": [
    "# Country Wide COVID-19 Dataset\n",
    "\n",
    "Content\n",
    "The dataset contains data about the numbers of tests, cases, deaths, serious/critical cases, active cases and recovered cases in each country for every day since April 18, and also contains the population of each country to calculate per-capita penetration of the virus\n",
    "Additionally, an auxiliary table with information about the fraction of the general population at different age groups for every country is added (taken from Wikipedia). This is specifically relevant since COVID-19 death rate is very much age dependent.\n",
    "Acknowledgements\n",
    "The people at \"www.worldometers.info\" collecting and maintaining this site really are doing very important work\n",
    "https://www.worldometers.info/coronavirus/#countries\n",
    "Data about age structure for every country comes from wikipedia\n",
    "Inspiration\n",
    "It's possible to use this dataset for various purposes and analyses\n",
    "My goal will be to use the additional data about the number of tests performed in each country to estimate the true death rate of COVID-19 and examine the relationship with age .(Consider the both files for understanding the scenario.)\n",
    "\n",
    "https://github.com/dsrscientist/COVID_19_Datasets/blob/master/worldometer_snapshots_April18_to_May18.csv\n",
    "\n",
    "https://github.com/dsrscientist/COVID_19_Datasets/blob/master/population_structure_by_age_per_contry.csv\n"
   ]
  },
  {
   "cell_type": "code",
   "execution_count": 1,
   "metadata": {},
   "outputs": [],
   "source": [
    "# Importing the basic libraries \n",
    "import numpy as np\n",
    "import pandas as pd\n",
    "import matplotlib.pyplot as plt\n",
    "import seaborn as sns\n",
    "import warnings\n",
    "warnings.filterwarnings('ignore')"
   ]
  },
  {
   "cell_type": "code",
   "execution_count": 2,
   "metadata": {},
   "outputs": [
    {
     "data": {
      "text/html": [
       "<div>\n",
       "<style scoped>\n",
       "    .dataframe tbody tr th:only-of-type {\n",
       "        vertical-align: middle;\n",
       "    }\n",
       "\n",
       "    .dataframe tbody tr th {\n",
       "        vertical-align: top;\n",
       "    }\n",
       "\n",
       "    .dataframe thead th {\n",
       "        text-align: right;\n",
       "    }\n",
       "</style>\n",
       "<table border=\"1\" class=\"dataframe\">\n",
       "  <thead>\n",
       "    <tr style=\"text-align: right;\">\n",
       "      <th></th>\n",
       "      <th>Date</th>\n",
       "      <th>Country</th>\n",
       "      <th>Population</th>\n",
       "      <th>Total Tests</th>\n",
       "      <th>Total Cases</th>\n",
       "      <th>Total Deaths</th>\n",
       "      <th>Total Recovered</th>\n",
       "      <th>Serious or Critical</th>\n",
       "      <th>Active Cases</th>\n",
       "    </tr>\n",
       "  </thead>\n",
       "  <tbody>\n",
       "    <tr>\n",
       "      <td>0</td>\n",
       "      <td>18-04-2020</td>\n",
       "      <td>USA</td>\n",
       "      <td>330774664</td>\n",
       "      <td>3722145.0</td>\n",
       "      <td>738792.0</td>\n",
       "      <td>39014.0</td>\n",
       "      <td>68269.0</td>\n",
       "      <td>13551.0</td>\n",
       "      <td>631509.0</td>\n",
       "    </tr>\n",
       "    <tr>\n",
       "      <td>1</td>\n",
       "      <td>18-04-2020</td>\n",
       "      <td>Russia</td>\n",
       "      <td>145927292</td>\n",
       "      <td>1831892.0</td>\n",
       "      <td>36793.0</td>\n",
       "      <td>313.0</td>\n",
       "      <td>3057.0</td>\n",
       "      <td>8.0</td>\n",
       "      <td>33423.0</td>\n",
       "    </tr>\n",
       "    <tr>\n",
       "      <td>2</td>\n",
       "      <td>18-04-2020</td>\n",
       "      <td>Spain</td>\n",
       "      <td>46752703</td>\n",
       "      <td>930230.0</td>\n",
       "      <td>194416.0</td>\n",
       "      <td>20043.0</td>\n",
       "      <td>74797.0</td>\n",
       "      <td>7371.0</td>\n",
       "      <td>99576.0</td>\n",
       "    </tr>\n",
       "    <tr>\n",
       "      <td>3</td>\n",
       "      <td>18-04-2020</td>\n",
       "      <td>Brazil</td>\n",
       "      <td>212380932</td>\n",
       "      <td>62985.0</td>\n",
       "      <td>36722.0</td>\n",
       "      <td>2361.0</td>\n",
       "      <td>14026.0</td>\n",
       "      <td>6634.0</td>\n",
       "      <td>20335.0</td>\n",
       "    </tr>\n",
       "    <tr>\n",
       "      <td>4</td>\n",
       "      <td>18-04-2020</td>\n",
       "      <td>UK</td>\n",
       "      <td>67844241</td>\n",
       "      <td>460437.0</td>\n",
       "      <td>114217.0</td>\n",
       "      <td>15464.0</td>\n",
       "      <td>NaN</td>\n",
       "      <td>1559.0</td>\n",
       "      <td>98409.0</td>\n",
       "    </tr>\n",
       "  </tbody>\n",
       "</table>\n",
       "</div>"
      ],
      "text/plain": [
       "         Date Country  Population  Total Tests  Total Cases  Total Deaths  \\\n",
       "0  18-04-2020     USA   330774664    3722145.0     738792.0       39014.0   \n",
       "1  18-04-2020  Russia   145927292    1831892.0      36793.0         313.0   \n",
       "2  18-04-2020   Spain    46752703     930230.0     194416.0       20043.0   \n",
       "3  18-04-2020  Brazil   212380932      62985.0      36722.0        2361.0   \n",
       "4  18-04-2020      UK    67844241     460437.0     114217.0       15464.0   \n",
       "\n",
       "   Total Recovered  Serious or Critical  Active Cases  \n",
       "0          68269.0              13551.0      631509.0  \n",
       "1           3057.0                  8.0       33423.0  \n",
       "2          74797.0               7371.0       99576.0  \n",
       "3          14026.0               6634.0       20335.0  \n",
       "4              NaN               1559.0       98409.0  "
      ]
     },
     "execution_count": 2,
     "metadata": {},
     "output_type": "execute_result"
    }
   ],
   "source": [
    "# Reading the datasets \n",
    "world_meter = pd.read_csv('worldometer_snapshots_April18_to_May18.csv', engine = 'python')\n",
    "world_meter.head()"
   ]
  },
  {
   "cell_type": "code",
   "execution_count": 3,
   "metadata": {},
   "outputs": [
    {
     "data": {
      "text/plain": [
       "(6603, 9)"
      ]
     },
     "execution_count": 3,
     "metadata": {},
     "output_type": "execute_result"
    }
   ],
   "source": [
    "world_meter.shape"
   ]
  },
  {
   "cell_type": "code",
   "execution_count": 4,
   "metadata": {},
   "outputs": [
    {
     "name": "stdout",
     "output_type": "stream",
     "text": [
      "<class 'pandas.core.frame.DataFrame'>\n",
      "RangeIndex: 6603 entries, 0 to 6602\n",
      "Data columns (total 9 columns):\n",
      "Date                   6603 non-null object\n",
      "Country                6603 non-null object\n",
      "Population             6603 non-null int64\n",
      "Total Tests            5505 non-null float64\n",
      "Total Cases            6554 non-null float64\n",
      "Total Deaths           5367 non-null float64\n",
      "Total Recovered        6318 non-null float64\n",
      "Serious or Critical    4117 non-null float64\n",
      "Active Cases           6544 non-null float64\n",
      "dtypes: float64(6), int64(1), object(2)\n",
      "memory usage: 464.4+ KB\n"
     ]
    }
   ],
   "source": [
    "world_meter.info()"
   ]
  },
  {
   "cell_type": "code",
   "execution_count": 5,
   "metadata": {},
   "outputs": [],
   "source": [
    "# I want to consider the date feature as an index so we can work with the dataset as a timeseries dataset.\n",
    "# But as we see, the date column is and object. - first let us change its datatype to date and then set it as the index of the dataset.\n",
    "\n",
    "world_meter['Date']= pd.to_datetime(world_meter['Date'], format='%d-%m-%Y')"
   ]
  },
  {
   "cell_type": "code",
   "execution_count": 6,
   "metadata": {},
   "outputs": [],
   "source": [
    "world_meter = world_meter.set_index('Date')"
   ]
  },
  {
   "cell_type": "code",
   "execution_count": 7,
   "metadata": {},
   "outputs": [
    {
     "name": "stdout",
     "output_type": "stream",
     "text": [
      "<class 'pandas.core.frame.DataFrame'>\n",
      "DatetimeIndex: 6603 entries, 2020-04-18 to 2020-05-18\n",
      "Data columns (total 8 columns):\n",
      "Country                6603 non-null object\n",
      "Population             6603 non-null int64\n",
      "Total Tests            5505 non-null float64\n",
      "Total Cases            6554 non-null float64\n",
      "Total Deaths           5367 non-null float64\n",
      "Total Recovered        6318 non-null float64\n",
      "Serious or Critical    4117 non-null float64\n",
      "Active Cases           6544 non-null float64\n",
      "dtypes: float64(6), int64(1), object(1)\n",
      "memory usage: 464.3+ KB\n"
     ]
    }
   ],
   "source": [
    "world_meter.info()"
   ]
  },
  {
   "cell_type": "markdown",
   "metadata": {},
   "source": [
    "As we can now see, in line 2 of the output above, the index of the dataset is now datetime and i.e. our same date field. also, the range is from 18-04-2020 to 18-05-2020 for a total of 31 days"
   ]
  },
  {
   "cell_type": "markdown",
   "metadata": {},
   "source": [
    "With this we will be able to use all of pandas’ time-based indexing to wrangle and analyze our data"
   ]
  },
  {
   "cell_type": "code",
   "execution_count": 8,
   "metadata": {},
   "outputs": [
    {
     "data": {
      "text/plain": [
       "Country                   0\n",
       "Population                0\n",
       "Total Tests            1098\n",
       "Total Cases              49\n",
       "Total Deaths           1236\n",
       "Total Recovered         285\n",
       "Serious or Critical    2486\n",
       "Active Cases             59\n",
       "dtype: int64"
      ]
     },
     "execution_count": 8,
     "metadata": {},
     "output_type": "execute_result"
    }
   ],
   "source": [
    "# Identifying the features where values are missing\n",
    "world_meter.isnull().sum()"
   ]
  },
  {
   "cell_type": "markdown",
   "metadata": {},
   "source": [
    "as we can see, Missing data is present for the total tests conducted, about the death counts, and also related to the severity and critical conditions of the patients.. \n",
    "Let us explore further"
   ]
  },
  {
   "cell_type": "code",
   "execution_count": 9,
   "metadata": {},
   "outputs": [],
   "source": [
    "# Setting the default figure size \n",
    "sns.set(rc={'figure.figsize':(11, 4)})"
   ]
  },
  {
   "cell_type": "code",
   "execution_count": 10,
   "metadata": {
    "scrolled": true
   },
   "outputs": [
    {
     "data": {
      "text/plain": [
       "<matplotlib.axes._subplots.AxesSubplot at 0x1baf08b6788>"
      ]
     },
     "execution_count": 10,
     "metadata": {},
     "output_type": "execute_result"
    },
    {
     "data": {
      "image/png": "[encoded data removed]",
      "text/plain": [
       "<Figure size 792x288 with 1 Axes>"
      ]
     },
     "metadata": {},
     "output_type": "display_data"
    }
   ],
   "source": [
    "# Let us see how the total worlwide tests were conducted on each day \n",
    "world_meter.loc['2020-04-15':'2020-05-20','Total Tests'].plot()"
   ]
  },
  {
   "cell_type": "markdown",
   "metadata": {},
   "source": [
    "this depicts that each day the total tests performed have been increasing "
   ]
  },
  {
   "cell_type": "code",
   "execution_count": 11,
   "metadata": {},
   "outputs": [
    {
     "data": {
      "text/plain": [
       "<matplotlib.axes._subplots.AxesSubplot at 0x1baf0959048>"
      ]
     },
     "execution_count": 11,
     "metadata": {},
     "output_type": "execute_result"
    },
    {
     "data": {
      "image/png": "[encoded data removed]",
      "text/plain": [
       "<Figure size 792x288 with 1 Axes>"
      ]
     },
     "metadata": {},
     "output_type": "display_data"
    }
   ],
   "source": [
    "world_meter.plot.line()"
   ]
  },
  {
   "cell_type": "code",
   "execution_count": 12,
   "metadata": {},
   "outputs": [
    {
     "data": {
      "text/html": [
       "<div>\n",
       "<style scoped>\n",
       "    .dataframe tbody tr th:only-of-type {\n",
       "        vertical-align: middle;\n",
       "    }\n",
       "\n",
       "    .dataframe tbody tr th {\n",
       "        vertical-align: top;\n",
       "    }\n",
       "\n",
       "    .dataframe thead th {\n",
       "        text-align: right;\n",
       "    }\n",
       "</style>\n",
       "<table border=\"1\" class=\"dataframe\">\n",
       "  <thead>\n",
       "    <tr style=\"text-align: right;\">\n",
       "      <th></th>\n",
       "      <th>Population</th>\n",
       "      <th>Total Tests</th>\n",
       "      <th>Total Cases</th>\n",
       "      <th>Total Deaths</th>\n",
       "      <th>Total Recovered</th>\n",
       "      <th>Serious or Critical</th>\n",
       "      <th>Active Cases</th>\n",
       "    </tr>\n",
       "    <tr>\n",
       "      <th>Country</th>\n",
       "      <th></th>\n",
       "      <th></th>\n",
       "      <th></th>\n",
       "      <th></th>\n",
       "      <th></th>\n",
       "      <th></th>\n",
       "      <th></th>\n",
       "    </tr>\n",
       "  </thead>\n",
       "  <tbody>\n",
       "    <tr>\n",
       "      <td>Afghanistan</td>\n",
       "      <td>1203337819</td>\n",
       "      <td>382382.0</td>\n",
       "      <td>97988.0</td>\n",
       "      <td>2740.0</td>\n",
       "      <td>12268.0</td>\n",
       "      <td>246.0</td>\n",
       "      <td>83202.0</td>\n",
       "    </tr>\n",
       "    <tr>\n",
       "      <td>Albania</td>\n",
       "      <td>89222805</td>\n",
       "      <td>273700.0</td>\n",
       "      <td>24227.0</td>\n",
       "      <td>915.0</td>\n",
       "      <td>16353.0</td>\n",
       "      <td>142.0</td>\n",
       "      <td>6983.0</td>\n",
       "    </tr>\n",
       "    <tr>\n",
       "      <td>Algeria</td>\n",
       "      <td>1356335963</td>\n",
       "      <td>198359.0</td>\n",
       "      <td>142955.0</td>\n",
       "      <td>14356.0</td>\n",
       "      <td>65672.0</td>\n",
       "      <td>882.0</td>\n",
       "      <td>63102.0</td>\n",
       "    </tr>\n",
       "    <tr>\n",
       "      <td>Andorra</td>\n",
       "      <td>2394781</td>\n",
       "      <td>58094.0</td>\n",
       "      <td>23061.0</td>\n",
       "      <td>1359.0</td>\n",
       "      <td>14214.0</td>\n",
       "      <td>410.0</td>\n",
       "      <td>7488.0</td>\n",
       "    </tr>\n",
       "    <tr>\n",
       "      <td>Angola</td>\n",
       "      <td>1014685273</td>\n",
       "      <td>62123.0</td>\n",
       "      <td>1079.0</td>\n",
       "      <td>63.0</td>\n",
       "      <td>316.0</td>\n",
       "      <td>0.0</td>\n",
       "      <td>700.0</td>\n",
       "    </tr>\n",
       "  </tbody>\n",
       "</table>\n",
       "</div>"
      ],
      "text/plain": [
       "             Population  Total Tests  Total Cases  Total Deaths  \\\n",
       "Country                                                           \n",
       "Afghanistan  1203337819     382382.0      97988.0        2740.0   \n",
       "Albania        89222805     273700.0      24227.0         915.0   \n",
       "Algeria      1356335963     198359.0     142955.0       14356.0   \n",
       "Andorra         2394781      58094.0      23061.0        1359.0   \n",
       "Angola       1014685273      62123.0       1079.0          63.0   \n",
       "\n",
       "             Total Recovered  Serious or Critical  Active Cases  \n",
       "Country                                                          \n",
       "Afghanistan          12268.0                246.0       83202.0  \n",
       "Albania              16353.0                142.0        6983.0  \n",
       "Algeria              65672.0                882.0       63102.0  \n",
       "Andorra              14214.0                410.0        7488.0  \n",
       "Angola                 316.0                  0.0         700.0  "
      ]
     },
     "execution_count": 12,
     "metadata": {},
     "output_type": "execute_result"
    }
   ],
   "source": [
    "# aggr = world_meter.groupby('Country')['Active Cases'].sum()\n",
    "aggr = world_meter.groupby('Country').sum()\n",
    "aggr.head()"
   ]
  },
  {
   "cell_type": "code",
   "execution_count": 13,
   "metadata": {},
   "outputs": [
    {
     "data": {
      "text/html": [
       "<div>\n",
       "<style scoped>\n",
       "    .dataframe tbody tr th:only-of-type {\n",
       "        vertical-align: middle;\n",
       "    }\n",
       "\n",
       "    .dataframe tbody tr th {\n",
       "        vertical-align: top;\n",
       "    }\n",
       "\n",
       "    .dataframe thead th {\n",
       "        text-align: right;\n",
       "    }\n",
       "</style>\n",
       "<table border=\"1\" class=\"dataframe\">\n",
       "  <thead>\n",
       "    <tr style=\"text-align: right;\">\n",
       "      <th></th>\n",
       "      <th>Population</th>\n",
       "      <th>Total Tests</th>\n",
       "      <th>Total Cases</th>\n",
       "      <th>Total Deaths</th>\n",
       "      <th>Total Recovered</th>\n",
       "      <th>Serious or Critical</th>\n",
       "      <th>Active Cases</th>\n",
       "      <th>Active % of Total Population</th>\n",
       "      <th>Recovery % of Total Cases</th>\n",
       "      <th>Critical % of Total Active Cases</th>\n",
       "    </tr>\n",
       "    <tr>\n",
       "      <th>Country</th>\n",
       "      <th></th>\n",
       "      <th></th>\n",
       "      <th></th>\n",
       "      <th></th>\n",
       "      <th></th>\n",
       "      <th></th>\n",
       "      <th></th>\n",
       "      <th></th>\n",
       "      <th></th>\n",
       "      <th></th>\n",
       "    </tr>\n",
       "  </thead>\n",
       "  <tbody>\n",
       "    <tr>\n",
       "      <td>Afghanistan</td>\n",
       "      <td>1203337819</td>\n",
       "      <td>382382.0</td>\n",
       "      <td>97988.0</td>\n",
       "      <td>2740.0</td>\n",
       "      <td>12268.0</td>\n",
       "      <td>246.0</td>\n",
       "      <td>83202.0</td>\n",
       "      <td>0.006914</td>\n",
       "      <td>12.519900</td>\n",
       "      <td>0.295666</td>\n",
       "    </tr>\n",
       "    <tr>\n",
       "      <td>Albania</td>\n",
       "      <td>89222805</td>\n",
       "      <td>273700.0</td>\n",
       "      <td>24227.0</td>\n",
       "      <td>915.0</td>\n",
       "      <td>16353.0</td>\n",
       "      <td>142.0</td>\n",
       "      <td>6983.0</td>\n",
       "      <td>0.007826</td>\n",
       "      <td>67.499071</td>\n",
       "      <td>2.033510</td>\n",
       "    </tr>\n",
       "    <tr>\n",
       "      <td>Algeria</td>\n",
       "      <td>1356335963</td>\n",
       "      <td>198359.0</td>\n",
       "      <td>142955.0</td>\n",
       "      <td>14356.0</td>\n",
       "      <td>65672.0</td>\n",
       "      <td>882.0</td>\n",
       "      <td>63102.0</td>\n",
       "      <td>0.004652</td>\n",
       "      <td>45.938932</td>\n",
       "      <td>1.397737</td>\n",
       "    </tr>\n",
       "    <tr>\n",
       "      <td>Andorra</td>\n",
       "      <td>2394781</td>\n",
       "      <td>58094.0</td>\n",
       "      <td>23061.0</td>\n",
       "      <td>1359.0</td>\n",
       "      <td>14214.0</td>\n",
       "      <td>410.0</td>\n",
       "      <td>7488.0</td>\n",
       "      <td>0.312680</td>\n",
       "      <td>61.636529</td>\n",
       "      <td>5.475427</td>\n",
       "    </tr>\n",
       "    <tr>\n",
       "      <td>Angola</td>\n",
       "      <td>1014685273</td>\n",
       "      <td>62123.0</td>\n",
       "      <td>1079.0</td>\n",
       "      <td>63.0</td>\n",
       "      <td>316.0</td>\n",
       "      <td>0.0</td>\n",
       "      <td>700.0</td>\n",
       "      <td>0.000069</td>\n",
       "      <td>29.286376</td>\n",
       "      <td>0.000000</td>\n",
       "    </tr>\n",
       "  </tbody>\n",
       "</table>\n",
       "</div>"
      ],
      "text/plain": [
       "             Population  Total Tests  Total Cases  Total Deaths  \\\n",
       "Country                                                           \n",
       "Afghanistan  1203337819     382382.0      97988.0        2740.0   \n",
       "Albania        89222805     273700.0      24227.0         915.0   \n",
       "Algeria      1356335963     198359.0     142955.0       14356.0   \n",
       "Andorra         2394781      58094.0      23061.0        1359.0   \n",
       "Angola       1014685273      62123.0       1079.0          63.0   \n",
       "\n",
       "             Total Recovered  Serious or Critical  Active Cases  \\\n",
       "Country                                                           \n",
       "Afghanistan          12268.0                246.0       83202.0   \n",
       "Albania              16353.0                142.0        6983.0   \n",
       "Algeria              65672.0                882.0       63102.0   \n",
       "Andorra              14214.0                410.0        7488.0   \n",
       "Angola                 316.0                  0.0         700.0   \n",
       "\n",
       "             Active % of Total Population  Recovery % of Total Cases  \\\n",
       "Country                                                                \n",
       "Afghanistan                      0.006914                  12.519900   \n",
       "Albania                          0.007826                  67.499071   \n",
       "Algeria                          0.004652                  45.938932   \n",
       "Andorra                          0.312680                  61.636529   \n",
       "Angola                           0.000069                  29.286376   \n",
       "\n",
       "             Critical % of Total Active Cases  \n",
       "Country                                        \n",
       "Afghanistan                          0.295666  \n",
       "Albania                              2.033510  \n",
       "Algeria                              1.397737  \n",
       "Andorra                              5.475427  \n",
       "Angola                               0.000000  "
      ]
     },
     "execution_count": 13,
     "metadata": {},
     "output_type": "execute_result"
    }
   ],
   "source": [
    "aggr['Active % of Total Population'] = (aggr['Active Cases']/aggr['Population'])*100\n",
    "aggr['Recovery % of Total Cases'] = (aggr['Total Recovered']/aggr['Total Cases'])*100\n",
    "aggr['Critical % of Total Active Cases'] = (aggr['Serious or Critical']/aggr['Active Cases'])*100\n",
    "aggr.head()"
   ]
  },
  {
   "cell_type": "code",
   "execution_count": 14,
   "metadata": {},
   "outputs": [
    {
     "data": {
      "text/html": [
       "<div>\n",
       "<style scoped>\n",
       "    .dataframe tbody tr th:only-of-type {\n",
       "        vertical-align: middle;\n",
       "    }\n",
       "\n",
       "    .dataframe tbody tr th {\n",
       "        vertical-align: top;\n",
       "    }\n",
       "\n",
       "    .dataframe thead th {\n",
       "        text-align: right;\n",
       "    }\n",
       "</style>\n",
       "<table border=\"1\" class=\"dataframe\">\n",
       "  <thead>\n",
       "    <tr style=\"text-align: right;\">\n",
       "      <th></th>\n",
       "      <th>Country</th>\n",
       "      <th>Fraction age 0-14 years</th>\n",
       "      <th>Fraction age 15-64 years</th>\n",
       "      <th>Fraction age 65+ years</th>\n",
       "    </tr>\n",
       "  </thead>\n",
       "  <tbody>\n",
       "    <tr>\n",
       "      <td>0</td>\n",
       "      <td>USA</td>\n",
       "      <td>0.189</td>\n",
       "      <td>0.657</td>\n",
       "      <td>0.154</td>\n",
       "    </tr>\n",
       "    <tr>\n",
       "      <td>1</td>\n",
       "      <td>Russia</td>\n",
       "      <td>0.176</td>\n",
       "      <td>0.682</td>\n",
       "      <td>0.142</td>\n",
       "    </tr>\n",
       "    <tr>\n",
       "      <td>2</td>\n",
       "      <td>Spain</td>\n",
       "      <td>0.147</td>\n",
       "      <td>0.659</td>\n",
       "      <td>0.194</td>\n",
       "    </tr>\n",
       "    <tr>\n",
       "      <td>3</td>\n",
       "      <td>Brazil</td>\n",
       "      <td>0.217</td>\n",
       "      <td>0.697</td>\n",
       "      <td>0.086</td>\n",
       "    </tr>\n",
       "    <tr>\n",
       "      <td>4</td>\n",
       "      <td>UK</td>\n",
       "      <td>0.177</td>\n",
       "      <td>0.638</td>\n",
       "      <td>0.185</td>\n",
       "    </tr>\n",
       "  </tbody>\n",
       "</table>\n",
       "</div>"
      ],
      "text/plain": [
       "  Country  Fraction age 0-14 years  Fraction age 15-64 years  \\\n",
       "0     USA                    0.189                     0.657   \n",
       "1  Russia                    0.176                     0.682   \n",
       "2   Spain                    0.147                     0.659   \n",
       "3  Brazil                    0.217                     0.697   \n",
       "4      UK                    0.177                     0.638   \n",
       "\n",
       "   Fraction age 65+ years  \n",
       "0                   0.154  \n",
       "1                   0.142  \n",
       "2                   0.194  \n",
       "3                   0.086  \n",
       "4                   0.185  "
      ]
     },
     "execution_count": 14,
     "metadata": {},
     "output_type": "execute_result"
    }
   ],
   "source": [
    "age_wise_popl = pd.read_csv('population_structure_by_age_per_contry.csv', engine = 'python')\n",
    "age_wise_popl.head()"
   ]
  },
  {
   "cell_type": "code",
   "execution_count": 15,
   "metadata": {},
   "outputs": [
    {
     "data": {
      "text/html": [
       "<div>\n",
       "<style scoped>\n",
       "    .dataframe tbody tr th:only-of-type {\n",
       "        vertical-align: middle;\n",
       "    }\n",
       "\n",
       "    .dataframe tbody tr th {\n",
       "        vertical-align: top;\n",
       "    }\n",
       "\n",
       "    .dataframe thead th {\n",
       "        text-align: right;\n",
       "    }\n",
       "</style>\n",
       "<table border=\"1\" class=\"dataframe\">\n",
       "  <thead>\n",
       "    <tr style=\"text-align: right;\">\n",
       "      <th></th>\n",
       "      <th>Country</th>\n",
       "      <th>Fraction age 0-14 years</th>\n",
       "      <th>Fraction age 15-64 years</th>\n",
       "      <th>Fraction age 65+ years</th>\n",
       "      <th>total</th>\n",
       "    </tr>\n",
       "  </thead>\n",
       "  <tbody>\n",
       "    <tr>\n",
       "      <td>0</td>\n",
       "      <td>USA</td>\n",
       "      <td>0.189</td>\n",
       "      <td>0.657</td>\n",
       "      <td>0.154</td>\n",
       "      <td>1.0</td>\n",
       "    </tr>\n",
       "    <tr>\n",
       "      <td>1</td>\n",
       "      <td>Russia</td>\n",
       "      <td>0.176</td>\n",
       "      <td>0.682</td>\n",
       "      <td>0.142</td>\n",
       "      <td>1.0</td>\n",
       "    </tr>\n",
       "    <tr>\n",
       "      <td>2</td>\n",
       "      <td>Spain</td>\n",
       "      <td>0.147</td>\n",
       "      <td>0.659</td>\n",
       "      <td>0.194</td>\n",
       "      <td>1.0</td>\n",
       "    </tr>\n",
       "    <tr>\n",
       "      <td>3</td>\n",
       "      <td>Brazil</td>\n",
       "      <td>0.217</td>\n",
       "      <td>0.697</td>\n",
       "      <td>0.086</td>\n",
       "      <td>1.0</td>\n",
       "    </tr>\n",
       "    <tr>\n",
       "      <td>4</td>\n",
       "      <td>UK</td>\n",
       "      <td>0.177</td>\n",
       "      <td>0.638</td>\n",
       "      <td>0.185</td>\n",
       "      <td>1.0</td>\n",
       "    </tr>\n",
       "  </tbody>\n",
       "</table>\n",
       "</div>"
      ],
      "text/plain": [
       "  Country  Fraction age 0-14 years  Fraction age 15-64 years  \\\n",
       "0     USA                    0.189                     0.657   \n",
       "1  Russia                    0.176                     0.682   \n",
       "2   Spain                    0.147                     0.659   \n",
       "3  Brazil                    0.217                     0.697   \n",
       "4      UK                    0.177                     0.638   \n",
       "\n",
       "   Fraction age 65+ years  total  \n",
       "0                   0.154    1.0  \n",
       "1                   0.142    1.0  \n",
       "2                   0.194    1.0  \n",
       "3                   0.086    1.0  \n",
       "4                   0.185    1.0  "
      ]
     },
     "execution_count": 15,
     "metadata": {},
     "output_type": "execute_result"
    }
   ],
   "source": [
    "age_wise_popl['total'] = age_wise_popl['Fraction age 0-14 years']+age_wise_popl['Fraction age 15-64 years']+age_wise_popl['Fraction age 65+ years']\n",
    "age_wise_popl.head()"
   ]
  },
  {
   "cell_type": "code",
   "execution_count": 16,
   "metadata": {},
   "outputs": [
    {
     "data": {
      "text/html": [
       "<div>\n",
       "<style scoped>\n",
       "    .dataframe tbody tr th:only-of-type {\n",
       "        vertical-align: middle;\n",
       "    }\n",
       "\n",
       "    .dataframe tbody tr th {\n",
       "        vertical-align: top;\n",
       "    }\n",
       "\n",
       "    .dataframe thead th {\n",
       "        text-align: right;\n",
       "    }\n",
       "</style>\n",
       "<table border=\"1\" class=\"dataframe\">\n",
       "  <thead>\n",
       "    <tr style=\"text-align: right;\">\n",
       "      <th></th>\n",
       "      <th>Country</th>\n",
       "      <th>Age_group</th>\n",
       "      <th>Population Fraction</th>\n",
       "    </tr>\n",
       "  </thead>\n",
       "  <tbody>\n",
       "    <tr>\n",
       "      <td>0</td>\n",
       "      <td>USA</td>\n",
       "      <td>Fraction age 0-14 years</td>\n",
       "      <td>0.189</td>\n",
       "    </tr>\n",
       "    <tr>\n",
       "      <td>1</td>\n",
       "      <td>Russia</td>\n",
       "      <td>Fraction age 0-14 years</td>\n",
       "      <td>0.176</td>\n",
       "    </tr>\n",
       "    <tr>\n",
       "      <td>2</td>\n",
       "      <td>Spain</td>\n",
       "      <td>Fraction age 0-14 years</td>\n",
       "      <td>0.147</td>\n",
       "    </tr>\n",
       "    <tr>\n",
       "      <td>3</td>\n",
       "      <td>Brazil</td>\n",
       "      <td>Fraction age 0-14 years</td>\n",
       "      <td>0.217</td>\n",
       "    </tr>\n",
       "    <tr>\n",
       "      <td>4</td>\n",
       "      <td>UK</td>\n",
       "      <td>Fraction age 0-14 years</td>\n",
       "      <td>0.177</td>\n",
       "    </tr>\n",
       "  </tbody>\n",
       "</table>\n",
       "</div>"
      ],
      "text/plain": [
       "  Country                Age_group  Population Fraction\n",
       "0     USA  Fraction age 0-14 years                0.189\n",
       "1  Russia  Fraction age 0-14 years                0.176\n",
       "2   Spain  Fraction age 0-14 years                0.147\n",
       "3  Brazil  Fraction age 0-14 years                0.217\n",
       "4      UK  Fraction age 0-14 years                0.177"
      ]
     },
     "execution_count": 16,
     "metadata": {},
     "output_type": "execute_result"
    }
   ],
   "source": [
    "# Unpivoting the above dataset so that we can reuse it with our world_meter dataset\n",
    "popl_frac = age_wise_popl.melt(id_vars=['Country'], var_name='Age_group', value_name='Population Fraction')\n",
    "popl_frac.head()"
   ]
  },
  {
   "cell_type": "code",
   "execution_count": 17,
   "metadata": {},
   "outputs": [
    {
     "name": "stdout",
     "output_type": "stream",
     "text": [
      "             Population  Total Tests  Total Cases  Total Deaths  \\\n",
      "Country                                                           \n",
      "Afghanistan  1203337819     382382.0      97988.0        2740.0   \n",
      "Albania        89222805     273700.0      24227.0         915.0   \n",
      "Algeria      1356335963     198359.0     142955.0       14356.0   \n",
      "Andorra         2394781      58094.0      23061.0        1359.0   \n",
      "Angola       1014685273      62123.0       1079.0          63.0   \n",
      "\n",
      "             Total Recovered  Serious or Critical  Active Cases  \\\n",
      "Country                                                           \n",
      "Afghanistan          12268.0                246.0       83202.0   \n",
      "Albania              16353.0                142.0        6983.0   \n",
      "Algeria              65672.0                882.0       63102.0   \n",
      "Andorra              14214.0                410.0        7488.0   \n",
      "Angola                 316.0                  0.0         700.0   \n",
      "\n",
      "             Active % of Total Population  Recovery % of Total Cases  \\\n",
      "Country                                                                \n",
      "Afghanistan                      0.006914                  12.519900   \n",
      "Albania                          0.007826                  67.499071   \n",
      "Algeria                          0.004652                  45.938932   \n",
      "Andorra                          0.312680                  61.636529   \n",
      "Angola                           0.000069                  29.286376   \n",
      "\n",
      "             Critical % of Total Active Cases  \n",
      "Country                                        \n",
      "Afghanistan                          0.295666  \n",
      "Albania                              2.033510  \n",
      "Algeria                              1.397737  \n",
      "Andorra                              5.475427  \n",
      "Angola                               0.000000  \n",
      "       Country  Population  Total Tests  Total Cases  Total Deaths  \\\n",
      "0  Afghanistan  1203337819     382382.0      97988.0        2740.0   \n",
      "1      Albania    89222805     273700.0      24227.0         915.0   \n",
      "2      Algeria  1356335963     198359.0     142955.0       14356.0   \n",
      "3      Andorra     2394781      58094.0      23061.0        1359.0   \n",
      "4       Angola  1014685273      62123.0       1079.0          63.0   \n",
      "\n",
      "   Total Recovered  Serious or Critical  Active Cases  \\\n",
      "0          12268.0                246.0       83202.0   \n",
      "1          16353.0                142.0        6983.0   \n",
      "2          65672.0                882.0       63102.0   \n",
      "3          14214.0                410.0        7488.0   \n",
      "4            316.0                  0.0         700.0   \n",
      "\n",
      "   Active % of Total Population  Recovery % of Total Cases  \\\n",
      "0                      0.006914                  12.519900   \n",
      "1                      0.007826                  67.499071   \n",
      "2                      0.004652                  45.938932   \n",
      "3                      0.312680                  61.636529   \n",
      "4                      0.000069                  29.286376   \n",
      "\n",
      "   Critical % of Total Active Cases  \n",
      "0                          0.295666  \n",
      "1                          2.033510  \n",
      "2                          1.397737  \n",
      "3                          5.475427  \n",
      "4                          0.000000  \n"
     ]
    }
   ],
   "source": [
    "df = aggr\n",
    "print(df.head())\n",
    "df = df.reset_index()\n",
    "print(df.head())"
   ]
  },
  {
   "cell_type": "code",
   "execution_count": 18,
   "metadata": {},
   "outputs": [
    {
     "name": "stdout",
     "output_type": "stream",
     "text": [
      "  Country                Age_group  Population Fraction\n",
      "0     USA  Fraction age 0-14 years                0.189\n",
      "1  Russia  Fraction age 0-14 years                0.176\n",
      "2   Spain  Fraction age 0-14 years                0.147\n",
      "3  Brazil  Fraction age 0-14 years                0.217\n",
      "4      UK  Fraction age 0-14 years                0.177\n"
     ]
    }
   ],
   "source": [
    "print(popl_frac.head())"
   ]
  },
  {
   "cell_type": "code",
   "execution_count": 19,
   "metadata": {
    "scrolled": true
   },
   "outputs": [
    {
     "data": {
      "text/html": [
       "<div>\n",
       "<style scoped>\n",
       "    .dataframe tbody tr th:only-of-type {\n",
       "        vertical-align: middle;\n",
       "    }\n",
       "\n",
       "    .dataframe tbody tr th {\n",
       "        vertical-align: top;\n",
       "    }\n",
       "\n",
       "    .dataframe thead th {\n",
       "        text-align: right;\n",
       "    }\n",
       "</style>\n",
       "<table border=\"1\" class=\"dataframe\">\n",
       "  <thead>\n",
       "    <tr style=\"text-align: right;\">\n",
       "      <th></th>\n",
       "      <th>Country</th>\n",
       "      <th>Population</th>\n",
       "      <th>Total Tests</th>\n",
       "      <th>Total Cases</th>\n",
       "      <th>Total Deaths</th>\n",
       "      <th>Total Recovered</th>\n",
       "      <th>Serious or Critical</th>\n",
       "      <th>Active Cases</th>\n",
       "      <th>Active % of Total Population</th>\n",
       "      <th>Recovery % of Total Cases</th>\n",
       "      <th>Critical % of Total Active Cases</th>\n",
       "    </tr>\n",
       "  </thead>\n",
       "  <tbody>\n",
       "    <tr>\n",
       "      <td>1</td>\n",
       "      <td>Albania</td>\n",
       "      <td>89222805</td>\n",
       "      <td>273700.0</td>\n",
       "      <td>24227.0</td>\n",
       "      <td>915.0</td>\n",
       "      <td>16353.0</td>\n",
       "      <td>142.0</td>\n",
       "      <td>6983.0</td>\n",
       "      <td>0.007826</td>\n",
       "      <td>67.499071</td>\n",
       "      <td>2.03351</td>\n",
       "    </tr>\n",
       "  </tbody>\n",
       "</table>\n",
       "</div>"
      ],
      "text/plain": [
       "   Country  Population  Total Tests  Total Cases  Total Deaths  \\\n",
       "1  Albania    89222805     273700.0      24227.0         915.0   \n",
       "\n",
       "   Total Recovered  Serious or Critical  Active Cases  \\\n",
       "1          16353.0                142.0        6983.0   \n",
       "\n",
       "   Active % of Total Population  Recovery % of Total Cases  \\\n",
       "1                      0.007826                  67.499071   \n",
       "\n",
       "   Critical % of Total Active Cases  \n",
       "1                           2.03351  "
      ]
     },
     "execution_count": 19,
     "metadata": {},
     "output_type": "execute_result"
    }
   ],
   "source": [
    "df_new = df[df['Country'] == 'Albania']\n",
    "df_new"
   ]
  },
  {
   "cell_type": "code",
   "execution_count": 20,
   "metadata": {},
   "outputs": [
    {
     "data": {
      "text/html": [
       "<div>\n",
       "<style scoped>\n",
       "    .dataframe tbody tr th:only-of-type {\n",
       "        vertical-align: middle;\n",
       "    }\n",
       "\n",
       "    .dataframe tbody tr th {\n",
       "        vertical-align: top;\n",
       "    }\n",
       "\n",
       "    .dataframe thead th {\n",
       "        text-align: right;\n",
       "    }\n",
       "</style>\n",
       "<table border=\"1\" class=\"dataframe\">\n",
       "  <thead>\n",
       "    <tr style=\"text-align: right;\">\n",
       "      <th></th>\n",
       "      <th>Country</th>\n",
       "      <th>Age_group</th>\n",
       "      <th>Population Fraction</th>\n",
       "    </tr>\n",
       "  </thead>\n",
       "  <tbody>\n",
       "    <tr>\n",
       "      <td>103</td>\n",
       "      <td>Albania</td>\n",
       "      <td>Fraction age 0-14 years</td>\n",
       "      <td>0.174</td>\n",
       "    </tr>\n",
       "    <tr>\n",
       "      <td>316</td>\n",
       "      <td>Albania</td>\n",
       "      <td>Fraction age 15-64 years</td>\n",
       "      <td>0.689</td>\n",
       "    </tr>\n",
       "    <tr>\n",
       "      <td>529</td>\n",
       "      <td>Albania</td>\n",
       "      <td>Fraction age 65+ years</td>\n",
       "      <td>0.132</td>\n",
       "    </tr>\n",
       "  </tbody>\n",
       "</table>\n",
       "</div>"
      ],
      "text/plain": [
       "     Country                 Age_group  Population Fraction\n",
       "103  Albania   Fraction age 0-14 years                0.174\n",
       "316  Albania  Fraction age 15-64 years                0.689\n",
       "529  Albania    Fraction age 65+ years                0.132"
      ]
     },
     "execution_count": 20,
     "metadata": {},
     "output_type": "execute_result"
    }
   ],
   "source": [
    "a = popl_frac[(popl_frac['Country']=='Albania') & (popl_frac['Age_group'] != 'total') ]\n",
    "a"
   ]
  },
  {
   "cell_type": "code",
   "execution_count": 21,
   "metadata": {},
   "outputs": [],
   "source": [
    "columns = df.columns\n",
    "columns = ['Population', 'Total Tests', 'Total Cases', 'Total Deaths',\n",
    "       'Total Recovered', 'Serious or Critical', 'Active Cases']"
   ]
  },
  {
   "cell_type": "code",
   "execution_count": null,
   "metadata": {},
   "outputs": [],
   "source": []
  }
 ],
 "metadata": {
  "kernelspec": {
   "display_name": "Python 3",
   "language": "python",
   "name": "python3"
  },
  "language_info": {
   "codemirror_mode": {
    "name": "ipython",
    "version": 3
   },
   "file_extension": ".py",
   "mimetype": "text/x-python",
   "name": "python",
   "nbconvert_exporter": "python",
   "pygments_lexer": "ipython3",
   "version": "3.7.4"
  }
 },
 "nbformat": 4,
 "nbformat_minor": 2
}
