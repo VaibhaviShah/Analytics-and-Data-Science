{
 "cells": [
  {
   "cell_type": "markdown",
   "metadata": {},
   "source": [
    "# MACHINE LEARNING WORKSHEET – 1"
   ]
  },
  {
   "cell_type": "markdown",
   "metadata": {},
   "source": [
    "### In Q1 to Q7, only one option is correct, Choose the correct option:"
   ]
  },
  {
   "cell_type": "markdown",
   "metadata": {},
   "source": [
    "#### 1. The value of correlation coefficient will always be:\n",
    "    A) between 0 and 1 \n",
    "    B) greater than -1\n",
    "    C) between -1 and 1 \n",
    "    D) between 0 and -1"
   ]
  },
  {
   "cell_type": "markdown",
   "metadata": {},
   "source": [
    "Ans: (C) - between -1 and 1\n"
   ]
  },
  {
   "cell_type": "markdown",
   "metadata": {},
   "source": [
    "#### 2. Which of the following cannot be used for dimensionality reduction?\n",
    "A) Lasso Regularisation \n",
    "    B) PCA\n",
    "    C) Recursive feature elimination \n",
    "    D) Ridge Regularisation"
   ]
  },
  {
   "cell_type": "markdown",
   "metadata": {},
   "source": [
    "Ans: (C) - Recursive feature elimination \n",
    "It is a Feature selection method"
   ]
  },
  {
   "cell_type": "markdown",
   "metadata": {},
   "source": [
    "#### 3. Which of the following is not a kernel in Support Vector Machines?\n",
    "A) linear B) Radial Basis Function\n",
    "C) hyperplane D) polynomial"
   ]
  },
  {
   "cell_type": "markdown",
   "metadata": {},
   "source": [
    "Ans: (C) - hyperplane\n",
    "    SVM forms a hyperpane were as the types of kernel are rbf, poly and linear"
   ]
  },
  {
   "cell_type": "markdown",
   "metadata": {},
   "source": [
    "#### 4. Amongst the following, which one is least suitable for a dataset having non-linear decision boundaries?\n",
    "A) Logistic Regression B) Naïve Bayes Classifier\n",
    "C) Decision Tree Classifier D) Support Vector Classifier"
   ]
  },
  {
   "cell_type": "markdown",
   "metadata": {},
   "source": [
    "Ans: (D) - Support Vector Classifier"
   ]
  },
  {
   "cell_type": "markdown",
   "metadata": {},
   "source": [
    "#### 5. In a Linear Regression problem, ‘X’ is independent variable and ‘Y’ is dependent variable, where ‘X’ represents weight in pounds. If you convert the unit of ‘X’ to kilograms, then new coefficient of ‘X’ will be?\n",
    "(1 kilogram = 2.205 pounds)\n",
    "A) 2.205 × old coefficient of ‘X’ B) same as old coefficient of ‘X’\n",
    "C) old coefficient of ‘X’ ÷ 2.205 D) Cannot be determined"
   ]
  },
  {
   "cell_type": "markdown",
   "metadata": {},
   "source": [
    "Ans: (C) - old coefficient of ‘X’ ÷ 2.205"
   ]
  },
  {
   "cell_type": "markdown",
   "metadata": {},
   "source": [
    "#### 6. As we increase the number of estimators in ADABOOST Classifier, what happens to the accuracy of the model?\n",
    "A) remains same B) increases\n",
    "C) decreases D) none of the above"
   ]
  },
  {
   "cell_type": "markdown",
   "metadata": {},
   "source": [
    "Ans: (B) increases"
   ]
  },
  {
   "cell_type": "markdown",
   "metadata": {},
   "source": [
    "#### 7. Which of the following is not an advantage of using random forest instead of decision trees?\n",
    "A) Random Forests reduce overfitting\n",
    "B) Random Forests explains more variance in data then decision trees\n",
    "C) Random Forests are easy to interpret\n",
    "D) Random Forests provide a reliable feature importance estimate"
   ]
  },
  {
   "cell_type": "markdown",
   "metadata": {},
   "source": [
    "Ans: (C) - Random Forests are easy to interpret"
   ]
  },
  {
   "cell_type": "markdown",
   "metadata": {},
   "source": [
    "### In Q8 to Q10, more than one options are correct, Choose all the correct options:"
   ]
  },
  {
   "cell_type": "markdown",
   "metadata": {},
   "source": [
    "#### 8. Which of the following are correct about Principal Components?\n",
    "\n",
    "A) Principal Components are calculated using supervised learning techniques \n",
    "\n",
    "B) Principal Components are calculated using unsupervised learning techniques\n",
    "\n",
    "C) Principal Components are linear combinations of Linear Variables.\n",
    "\n",
    "D) All of the above"
   ]
  },
  {
   "cell_type": "markdown",
   "metadata": {},
   "source": [
    "Ans: (A) Principal Components are calculated using supervised learning techniques\n",
    "(C) Principal Components are linear combinations of Linear Variables."
   ]
  },
  {
   "cell_type": "markdown",
   "metadata": {},
   "source": [
    "#### 9. Which of the following are applications of clustering?\n",
    "A) Identifying developed, developing and under-developed countries on the basis of factors like GDP, poverty index, employment rate, population and living index\n",
    "B) Identifying loan defaulters in a bank on the basis of previous years’ data of loan accounts.\n",
    "C) Identifying spam or ham emails\n",
    "D) Identifying different segments of disease based on BMI, blood pressure, cholesterol, blood sugar levels."
   ]
  },
  {
   "cell_type": "markdown",
   "metadata": {},
   "source": [
    "Ans: (A) Identifying developed, developing and under-developed countries on the basis of factors like GDP, poverty index, employment rate, population and living index\n",
    "\n",
    "(B) Identifying loan defaulters in a bank on the basis of previous years’ data of loan accounts.\n",
    "\n",
    "(D) Identifying different segments of disease based on BMI, blood pressure, cholesterol, blood sugar levels."
   ]
  },
  {
   "cell_type": "markdown",
   "metadata": {},
   "source": [
    "#### 10. Which of the following is(are) hyper parameters of a decision tree?\n",
    "\n",
    "A) max_depth B) max_features\n",
    "C) n_estimators D) min_samples_leaf"
   ]
  },
  {
   "cell_type": "markdown",
   "metadata": {},
   "source": [
    "Ans: (A) max_depth, (B) max_features and  (D) min_samples_leaf "
   ]
  },
  {
   "cell_type": "markdown",
   "metadata": {},
   "source": [
    "### Q11 to Q15 are subjective answer type questions, Answer them briefly."
   ]
  },
  {
   "cell_type": "markdown",
   "metadata": {},
   "source": [
    "#### 11. What are outliers? Explain the Inter Quartile Range(IQR) method for outlier detection.#### "
   ]
  },
  {
   "cell_type": "markdown",
   "metadata": {},
   "source": [
    "Ans: Outlier is a datapoint which is considerably distant from other similar datapoints. \n",
    "\n",
    "The Inter Quartile Range(IQR) method for detecting outlier:\n",
    "\n",
    "IQR is the range between the first and the third quartiles namely Q1 and Q3: \n",
    "IQR = Q3 – Q1. \n",
    "The data points which fall below Q1 – 1.5 IQR or above Q3 + 1.5 IQR are outliers.\n"
   ]
  },
  {
   "cell_type": "markdown",
   "metadata": {},
   "source": [
    "#### 12. What is the primary difference between bagging and boosting algorithms?"
   ]
  },
  {
   "cell_type": "markdown",
   "metadata": {},
   "source": [
    "Ans: In Bagging algorithms, the dataset is arbitrarily divided and a model for each sub division is built, the final predictions are then combined using polling; this increases the efficiency of the model by decreasing the variance.\n",
    "\n",
    "Boosting algorithms, try to review and correct inadmissable predictions from the previous pipeline step in the current step; and this continues until desired prediction is achieved.\n",
    "\n",
    "Thus, Boosting focuses on errors found in previouss iterations until they become obsolete whereas in bagging there is no such corrective loop."
   ]
  },
  {
   "cell_type": "markdown",
   "metadata": {},
   "source": [
    "#### 13. What is adjusted R2 in logistic regression. How is it calculated?"
   ]
  },
  {
   "cell_type": "markdown",
   "metadata": {},
   "source": [
    "Ans: Adjusted R2 in logistic regression measures the proportion of variation explained by only those independent variables that help in explaining the dependent variable. It penalizes us for adding independent variables that do not help in predicting the dependent variable.\n",
    "\n",
    "Adjusted R Squared = 1 – [((1 – R2) * (n – 1)) / (n – k – 1)]\n",
    "\n",
    "where:\n",
    "\n",
    "R2 = Explained Variation / Total Variation\n",
    "\n",
    "n – Number of points in your data set.\n",
    "\n",
    "k – Number of independent variables in the model, excluding the constant"
   ]
  },
  {
   "cell_type": "markdown",
   "metadata": {},
   "source": [
    "#### 14. What is the difference between standardisation and normalisation?"
   ]
  },
  {
   "cell_type": "markdown",
   "metadata": {},
   "source": [
    "Ans: Standardization refers to re-scaling the data to have a mean of 0 and std. dev. of 1\n",
    "while, Normalization refers to re-scaling the values to fit into a range of [0,1] (i.e between 0 and 1)"
   ]
  },
  {
   "cell_type": "markdown",
   "metadata": {},
   "source": [
    "#### 15. What is cross-validation? Describe one advantage and one disadvantage of using cross-validation."
   ]
  },
  {
   "cell_type": "markdown",
   "metadata": {},
   "source": [
    "Ans: Cross Validation is a process used to evaluate Machine Learning Models on a limited data set. \n",
    "Here, a given data sample is split in say k groups called as folds and each of the k folds act as training data set and testing dataset\n",
    "assume k = 3 i.e. the data set is split into 3 folds \n",
    "so for when k = 1, fold 1 will be the test dataset and folds 2 and 3 will act as the training datasets\n",
    "when k =2, fold 2 will be the test dataset and folds 1 and 3 will act as the training datasets\n",
    "and so on and so forth.\n",
    "\n",
    "Advantage: \n",
    "Reduces Overfitting -> In Cross Validation, we split the dataset into multiple folds and train the algorithm on different folds. This prevents our model from overfitting the training dataset.\n",
    "\n",
    "Disadvantage:\n",
    "Increases Training Time -> Cross Validation drastically increases the training time. Earlier we had to train our model only on one training set, but with Cross Validation we have to train our model on multiple training sets."
   ]
  }
 ],
 "metadata": {
  "kernelspec": {
   "display_name": "Python 3",
   "language": "python",
   "name": "python3"
  },
  "language_info": {
   "codemirror_mode": {
    "name": "ipython",
    "version": 3
   },
   "file_extension": ".py",
   "mimetype": "text/x-python",
   "name": "python",
   "nbconvert_exporter": "python",
   "pygments_lexer": "ipython3",
   "version": "3.7.4"
  }
 },
 "nbformat": 4,
 "nbformat_minor": 2
}
